{
 "cells": [
  {
   "cell_type": "markdown",
   "id": "fec9dce1",
   "metadata": {},
   "source": [
    "# Reading for Next Class: \n",
    "\n",
    "Please read [Chapter 1](https://inferentialthinking.com/chapters/01/what-is-data-science.html) of the textbook, Computational and Inferential Thinking, by  Ani Adhikari, John DeNero, and David Wagner. This is a nice introduction to data science using Python. As well, read about percentiles in [Chapter 13.1](https://inferentialthinking.com/chapters/13/1/Percentiles.html) of the same book. You should complete reading quiz 01 prior to coming to our next class.  "
   ]
  }
 ],
 "metadata": {
  "kernelspec": {
   "display_name": "Python 3",
   "language": "python",
   "name": "python3"
  },
  "language_info": {
   "codemirror_mode": {
    "name": "ipython",
    "version": 3
   },
   "file_extension": ".py",
   "mimetype": "text/x-python",
   "name": "python",
   "nbconvert_exporter": "python",
   "pygments_lexer": "ipython3",
   "version": "3.8.8"
  }
 },
 "nbformat": 4,
 "nbformat_minor": 5
}
