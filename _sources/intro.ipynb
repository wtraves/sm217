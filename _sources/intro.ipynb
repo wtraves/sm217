{
 "cells": [
  {
   "cell_type": "markdown",
   "id": "ecb29a5c",
   "metadata": {},
   "source": [
    "# SM217: Introduction to Data Science\n",
    "\n",
    "This online book is a resource for midshipmen at the United States Naval Academy taking our Introduction to Data Science core class. It is freely available for others to use and freely modify as long as you acknowledge the original source. This work grew out of USNA's initial use of the [data8 curriculum](www.data8.org) from U.C. Berkeley, which we enthusiastically endorse. Questions and comments can be sent to Professor Will Traves (<traves@usna.edu>).\n",
    "\n",
    "A companion [website](https://sites.google.com/usna.edu/data-science-for-decision-make/home) to the course (and this book) contains Jupyter notebooks with homework, labs, and other material.\n",
    "\n",
    "The book roughly organized with one chapter for each day in the course. Usually, we have reading and an accompanying Google-form reading quiz assigned prior to each class day. We use Anaconda's distribution of Python and U.C. Berkeley's `datascience` library throughout the course. In the next section, you can find information about how midshipmen can install Anaconda's Python distribution on their USNA laptops. This should be done prior to the first day of class."
   ]
  }
 ],
 "metadata": {
  "jupytext": {
   "formats": "md,ipynb",
   "text_representation": {
    "extension": ".md",
    "format_name": "pandoc",
    "format_version": "2.12",
    "jupytext_version": "1.10.3"
   }
  },
  "kernelspec": {
   "display_name": "Python 3",
   "language": "python",
   "name": "python3"
  },
  "language_info": {
   "codemirror_mode": {
    "name": "ipython",
    "version": 3
   },
   "file_extension": ".py",
   "mimetype": "text/x-python",
   "name": "python",
   "nbconvert_exporter": "python",
   "pygments_lexer": "ipython3",
   "version": "3.8.8"
  }
 },
 "nbformat": 4,
 "nbformat_minor": 5
}
