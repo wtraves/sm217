{
 "cells": [
  {
   "cell_type": "markdown",
   "id": "b34dd967",
   "metadata": {},
   "source": [
    "# Lab 00 and Reading for Next Class\n",
    "\n",
    "In today's class we'll work on our first lab, Lab 00. You can find the Jupyter notebook containing the lab on our [course website](https://sites.google.com/usna.edu/data-science-for-decision-make/home). The lab introduces notebooks, basic arithmetic, syntax errors, use of functions (particularly the percentile function), and concludes with an examination of data about income inequality in America. \n",
    "\n",
    "Please read [Chapter 2](https://inferentialthinking.com/chapters/02/causality-and-experiments.html) of the Computational and Inferential Thinking textbook prior to next class. The chapter compares observational studies and randomized clinical trials. The kind of study determines what kinds of conclusions you can reach. Complete Reading Quiz 02 before next class. "
   ]
  }
 ],
 "metadata": {
  "kernelspec": {
   "display_name": "Python 3",
   "language": "python",
   "name": "python3"
  },
  "language_info": {
   "codemirror_mode": {
    "name": "ipython",
    "version": 3
   },
   "file_extension": ".py",
   "mimetype": "text/x-python",
   "name": "python",
   "nbconvert_exporter": "python",
   "pygments_lexer": "ipython3",
   "version": "3.8.8"
  }
 },
 "nbformat": 4,
 "nbformat_minor": 5
}
